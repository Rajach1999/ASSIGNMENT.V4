{
 "cells": [
  {
   "cell_type": "markdown",
   "metadata": {},
   "source": [
    "# Importing libraries and Converting xlsx file to csv file"
   ]
  },
  {
   "cell_type": "code",
   "execution_count": 1,
   "metadata": {},
   "outputs": [],
   "source": [
    "import pandas as pd\n",
    "data_xls = pd.read_excel('sample_data_v4.xlsx', 'Sheet2', index_col=None)\n",
    "data_xls.to_csv('sample_data.csv', encoding='utf-8')\n",
    "df = pd.read_csv(\"sample_data.csv\")\n",
    "df = df.astype(str)\n",
    "applicant_skills = df['Other skills']\n",
    "application_id = df['Application ID']"
   ]
  },
  {
   "cell_type": "code",
   "execution_count": 12,
   "metadata": {},
   "outputs": [],
   "source": [
    "roles_dataframe = pd.DataFrame({\n",
    "    'Web_Developer'  : ['HTML', 'CSS', 'Bootstrap', 'AJAX', 'JavaScript', 'PHP', 'MySQL', 'REST API', 'AWS/GCP', 'Git/GitHub', 'Python', 'Linux',  'JSON', 'Authentication/Authorization (JWT)'],\n",
    "    'FullStack_Developer' : ['HTML', 'CSS', 'MongoDB', 'Express', 'React.js', 'Node.js', 'ES6','Redux', 'JavaScript', 'AWS/GCP', 'Python', 'Linux', 'JSON', 'Authentication/Authorization (JWT)'],\n",
    "    'ML_Developer' : ['Python', 'TensorFlow', 'PyTorch', 'NumPy', 'PyPI', 'Sci-kit learn', 'Statistical Modelling', 'Machine Learning','Deep Learning', 'SQL', 'JSON', 'AWS/GCP/Heroku', 'Flask','SQL']\n",
    "})\n",
    "Web_Developer = roles_dataframe.iloc[:,0].values\n",
    "FullStack_Developer = roles_dataframe.iloc[:,1].values\n",
    "ML_Developer = roles_dataframe.iloc[:,2].values\n",
    "selected_role = [Web_Developer,FullStack_Developer,ML_Developer]"
   ]
  },
  {
   "cell_type": "markdown",
   "metadata": {},
   "source": [
    "#    Changing the arrays to our comfort"
   ]
  },
  {
   "cell_type": "code",
   "execution_count": 3,
   "metadata": {},
   "outputs": [],
   "source": [
    "cleaned_applicant_skills = []\n",
    "for skills in applicant_skills:\n",
    "  cleaned_applicant_skills.append(skills.split(', '))"
   ]
  },
  {
   "cell_type": "code",
   "execution_count": 4,
   "metadata": {},
   "outputs": [],
   "source": [
    "def Diff(li1, li2):\n",
    "    return (list(set(li1) - set(li2)))"
   ]
  },
  {
   "cell_type": "markdown",
   "metadata": {},
   "source": [
    "# As this is just knowing whether the applicant is selected or not....taking note that the DESIRED ROLE is not given by applicant.....i am taking an input for specific role AND..... no ALGORITHM is needed here because,we can just tell whether the appllicant is selected or not as the given datset is not given Desired role ....i am doing this method "
   ]
  },
  {
   "cell_type": "markdown",
   "metadata": {},
   "source": [
    "# 1)Web_Developer \n",
    "# 2)FullStack_Developer\n",
    "# 3)ML_Developer"
   ]
  },
  {
   "cell_type": "code",
   "execution_count": 5,
   "metadata": {},
   "outputs": [
    {
     "name": "stdout",
     "output_type": "stream",
     "text": [
      "Select One: 1.Web_Developer,2.FullStack_Developer,3.ML_Developer--> Web_Developer\n"
     ]
    }
   ],
   "source": [
    "desired_role = int(input(\"Select..1 for Web_Developer,2 for FullStack_Developer,3 for ML_Developer-->\"))\n",
    "ShortList = []\n",
    "skill_gaps = []\n",
    "if desired_role==1:\n",
    "  for skills in cleaned_applicant_skills:\n",
    "    result =  all(skill in skills  for skill in selected_role[0])\n",
    "    if result:\n",
    "      ShortList.append('Selected')\n",
    "      skill_gaps.append('None')\n",
    "    else:\n",
    "      ShortList.append('Not Selected')\n",
    "      skill_gaps.append(Diff(selected_role[0],skills))\n",
    "elif desired_role==2:\n",
    "  for skills in cleaned_applicant_skills:\n",
    "    result =  all(skill in skills  for skill in selected_role[1])\n",
    "    if result:\n",
    "      ShortList.append('Selected')\n",
    "      skill_gaps.append('None')\n",
    "    else:\n",
    "      ShortList.append('Not Selected')\n",
    "      skill_gaps.append(Diff(selected_role[1],skills))\n",
    "elif desired_role==3:\n",
    "  for skills in cleaned_applicant_skills:\n",
    "    result =  all(skill in skills  for skill in selected_role[2])\n",
    "    if result:\n",
    "      ShortList.append('Selected')\n",
    "      skill_gaps.append('None')\n",
    "    else:\n",
    "      ShortList.append('Not Selected')\n",
    "      skill_gaps.append(Diff(selected_role[2],skills))"
   ]
  },
  {
   "cell_type": "markdown",
   "metadata": {},
   "source": [
    "# After giving the desired role you want to be in the above one----->you can check whether the applicant is selected or not and if not selected you can see skills_gap in below dataframe"
   ]
  },
  {
   "cell_type": "code",
   "execution_count": 6,
   "metadata": {},
   "outputs": [],
   "source": [
    "final_selection_data = pd.DataFrame({\n",
    "    'Application_id': list(i for i in application_id),\n",
    "    'Shortlist_selection': list(j for j in ShortList),\n",
    "    'skill_gaps': list(k for k in skill_gaps)\n",
    "    })"
   ]
  },
  {
   "cell_type": "markdown",
   "metadata": {},
   "source": [
    "# Saving the final_selection_result"
   ]
  },
  {
   "cell_type": "code",
   "execution_count": 15,
   "metadata": {},
   "outputs": [],
   "source": [
    "final_selection_data.to_csv (r'C:\\Users\\user\\downloads\\final_result.csv', index = False, header=True)"
   ]
  },
  {
   "cell_type": "code",
   "execution_count": null,
   "metadata": {},
   "outputs": [],
   "source": []
  },
  {
   "cell_type": "code",
   "execution_count": null,
   "metadata": {},
   "outputs": [],
   "source": []
  },
  {
   "cell_type": "code",
   "execution_count": null,
   "metadata": {},
   "outputs": [],
   "source": []
  }
 ],
 "metadata": {
  "kernelspec": {
   "display_name": "Python 3",
   "language": "python",
   "name": "python3"
  },
  "language_info": {
   "codemirror_mode": {
    "name": "ipython",
    "version": 3
   },
   "file_extension": ".py",
   "mimetype": "text/x-python",
   "name": "python",
   "nbconvert_exporter": "python",
   "pygments_lexer": "ipython3",
   "version": "3.7.4"
  }
 },
 "nbformat": 4,
 "nbformat_minor": 2
}
