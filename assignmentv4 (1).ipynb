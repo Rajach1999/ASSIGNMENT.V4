{
 "cells": [
  {
   "cell_type": "markdown",
   "metadata": {},
   "source": [
    "# Importing libraries and Converting xlsx file to csv file"
   ]
  },
  {
   "cell_type": "code",
   "execution_count": 1,
   "metadata": {},
   "outputs": [],
   "source": [
    "import pandas as pd\n",
    "data_xls = pd.read_excel('sample_data_v4.xlsx', 'Sheet2', index_col=None)\n",
    "data_xls.to_csv('sample_data.csv', encoding='utf-8')\n",
    "df = pd.read_csv(\"sample_data.csv\")\n",
    "df = df.astype(str)\n",
    "applicant_skills = df['Other skills']\n",
    "application_id = df['Application ID']"
   ]
  },
  {
   "cell_type": "code",
   "execution_count": 2,
   "metadata": {},
   "outputs": [],
   "source": [
    "roles_dataframe = pd.DataFrame({\n",
    "    'Web_Developer'  : ['HTML', 'CSS', 'Bootstrap', 'AJAX', 'JavaScript', 'PHP', 'MySQL', 'REST API', 'AWS/GCP', 'Git/GitHub', 'Python', 'Linux',  'JSON', 'Authentication/Authorization (JWT)'],\n",
    "    'FullStack_Developer' : ['HTML', 'CSS', 'MongoDB', 'Express', 'React.js', 'Node.js', 'ES6','Redux', 'JavaScript', 'AWS/GCP', 'Python', 'Linux', 'JSON', 'Authentication/Authorization (JWT)'],\n",
    "    'ML_Developer' : ['Python', 'TensorFlow', 'PyTorch', 'NumPy', 'PyPI', 'Sci-kit learn', 'Statistical Modelling', 'Machine Learning','Deep Learning', 'SQL', 'JSON', 'AWS/GCP/Heroku', 'Flask','SQL']\n",
    "})\n",
    "Web_Developer = roles_dataframe.iloc[:,0].values\n",
    "FullStack_Developer = roles_dataframe.iloc[:,1].values\n",
    "ML_Developer = roles_dataframe.iloc[:,2].values\n",
    "selected_role = [Web_Developer,FullStack_Developer,ML_Developer]"
   ]
  },
  {
   "cell_type": "markdown",
   "metadata": {},
   "source": [
    "#    Changing the arrays to our comfort"
   ]
  },
  {
   "cell_type": "code",
   "execution_count": 3,
   "metadata": {},
   "outputs": [],
   "source": [
    "cleaned_applicant_skills = []\n",
    "for skills in applicant_skills:\n",
    "  cleaned_applicant_skills.append(skills.split(', '))"
   ]
  },
  {
   "cell_type": "code",
   "execution_count": 4,
   "metadata": {},
   "outputs": [],
   "source": [
    "def Diff(li1, li2):\n",
    "    return (list(set(li1) - set(li2)))"
   ]
  },
  {
   "cell_type": "markdown",
   "metadata": {},
   "source": [
    "# As this is just knowing whether the applicant is selected or not....taking note that the DESIRED ROLE is not given by applicant.....i am taking an input for specific role AND..... no ALGORITHM is needed here because,we can just tell whether the appllicant is selected or not as the given datset is not given Desired role ....i am doing this method "
   ]
  },
  {
   "cell_type": "markdown",
   "metadata": {},
   "source": [
    "# 1)Web_Developer \n",
    "# 2)FullStack_Developer\n",
    "# 3)ML_Developer"
   ]
  },
  {
   "cell_type": "code",
   "execution_count": 5,
   "metadata": {},
   "outputs": [
    {
     "name": "stdout",
     "output_type": "stream",
     "text": [
      "Select..1 for Web_Developer,2 for FullStack_Developer,3 for ML_Developer-->1\n"
     ]
    }
   ],
   "source": [
    "desired_role = int(input(\"Select..1 for Web_Developer,2 for FullStack_Developer,3 for ML_Developer-->\"))\n",
    "ShortList = []\n",
    "skill_gaps = []\n",
    "if desired_role==1:\n",
    "  for skills in cleaned_applicant_skills:\n",
    "    result =  all(skill in skills  for skill in selected_role[0])\n",
    "    if result:\n",
    "      ShortList.append('Selected')\n",
    "      skill_gaps.append('None')\n",
    "    else:\n",
    "      ShortList.append('Not Selected')\n",
    "      skill_gaps.append(Diff(selected_role[0],skills))\n",
    "elif desired_role==2:\n",
    "  for skills in cleaned_applicant_skills:\n",
    "    result =  all(skill in skills  for skill in selected_role[1])\n",
    "    if result:\n",
    "      ShortList.append('Selected')\n",
    "      skill_gaps.append('None')\n",
    "    else:\n",
    "      ShortList.append('Not Selected')\n",
    "      skill_gaps.append(Diff(selected_role[1],skills))\n",
    "elif desired_role==3:\n",
    "  for skills in cleaned_applicant_skills:\n",
    "    result =  all(skill in skills  for skill in selected_role[2])\n",
    "    if result:\n",
    "      ShortList.append('Selected')\n",
    "      skill_gaps.append('None')\n",
    "    else:\n",
    "      ShortList.append('Not Selected')\n",
    "      skill_gaps.append(Diff(selected_role[2],skills))"
   ]
  },
  {
   "cell_type": "markdown",
   "metadata": {},
   "source": [
    "# After giving the desired role you want to be in the above one----->you can check whether the applicant is selected or not and if not selected you can see skills_gap in below dataframe"
   ]
  },
  {
   "cell_type": "code",
   "execution_count": 6,
   "metadata": {},
   "outputs": [],
   "source": [
    "final_selection_data = pd.DataFrame({\n",
    "    'Application_id': list(i for i in application_id),\n",
    "    'Shortlist_selection': list(j for j in ShortList),\n",
    "    'skill_gaps': list(k for k in skill_gaps)\n",
    "    })"
   ]
  },
  {
   "cell_type": "markdown",
   "metadata": {},
   "source": [
    "# Saving the final_selection_result according to option you choosed"
   ]
  },
  {
   "cell_type": "code",
   "execution_count": 7,
   "metadata": {},
   "outputs": [],
   "source": [
    "final_selection_data.to_csv (r'C:\\Users\\user\\downloads\\final_result.csv', index = False, header=True)"
   ]
  },
  {
   "cell_type": "code",
   "execution_count": 8,
   "metadata": {},
   "outputs": [
    {
     "data": {
      "text/html": [
       "<div>\n",
       "<style scoped>\n",
       "    .dataframe tbody tr th:only-of-type {\n",
       "        vertical-align: middle;\n",
       "    }\n",
       "\n",
       "    .dataframe tbody tr th {\n",
       "        vertical-align: top;\n",
       "    }\n",
       "\n",
       "    .dataframe thead th {\n",
       "        text-align: right;\n",
       "    }\n",
       "</style>\n",
       "<table border=\"1\" class=\"dataframe\">\n",
       "  <thead>\n",
       "    <tr style=\"text-align: right;\">\n",
       "      <th></th>\n",
       "      <th>Application_id</th>\n",
       "      <th>Shortlist_selection</th>\n",
       "      <th>skill_gaps</th>\n",
       "    </tr>\n",
       "  </thead>\n",
       "  <tbody>\n",
       "    <tr>\n",
       "      <td>0</td>\n",
       "      <td>MS0001</td>\n",
       "      <td>Not Selected</td>\n",
       "      <td>[MySQL, AWS/GCP, PHP, AJAX, CSS, JavaScript, J...</td>\n",
       "    </tr>\n",
       "    <tr>\n",
       "      <td>1</td>\n",
       "      <td>MS0002</td>\n",
       "      <td>Not Selected</td>\n",
       "      <td>[MySQL, AWS/GCP, PHP, AJAX, CSS, JavaScript, J...</td>\n",
       "    </tr>\n",
       "    <tr>\n",
       "      <td>2</td>\n",
       "      <td>MS0003</td>\n",
       "      <td>Not Selected</td>\n",
       "      <td>[MySQL, AWS/GCP, PHP, AJAX, CSS, JavaScript, J...</td>\n",
       "    </tr>\n",
       "    <tr>\n",
       "      <td>3</td>\n",
       "      <td>MS0004</td>\n",
       "      <td>Not Selected</td>\n",
       "      <td>[MySQL, AWS/GCP, PHP, AJAX, CSS, JavaScript, J...</td>\n",
       "    </tr>\n",
       "    <tr>\n",
       "      <td>4</td>\n",
       "      <td>MS0005</td>\n",
       "      <td>Not Selected</td>\n",
       "      <td>[AWS/GCP, AJAX, CSS, JavaScript, JSON, Git/Git...</td>\n",
       "    </tr>\n",
       "    <tr>\n",
       "      <td>...</td>\n",
       "      <td>...</td>\n",
       "      <td>...</td>\n",
       "      <td>...</td>\n",
       "    </tr>\n",
       "    <tr>\n",
       "      <td>2163</td>\n",
       "      <td>MS2164</td>\n",
       "      <td>Not Selected</td>\n",
       "      <td>[MySQL, AWS/GCP, PHP, AJAX, CSS, JavaScript, J...</td>\n",
       "    </tr>\n",
       "    <tr>\n",
       "      <td>2164</td>\n",
       "      <td>MS2165</td>\n",
       "      <td>Not Selected</td>\n",
       "      <td>[MySQL, AWS/GCP, AJAX, JSON, Git/GitHub, REST ...</td>\n",
       "    </tr>\n",
       "    <tr>\n",
       "      <td>2165</td>\n",
       "      <td>MS2166</td>\n",
       "      <td>Not Selected</td>\n",
       "      <td>[MySQL, AWS/GCP, PHP, AJAX, JSON, Git/GitHub, ...</td>\n",
       "    </tr>\n",
       "    <tr>\n",
       "      <td>2166</td>\n",
       "      <td>MS2167</td>\n",
       "      <td>Not Selected</td>\n",
       "      <td>[MySQL, AWS/GCP, PHP, AJAX, CSS, JavaScript, J...</td>\n",
       "    </tr>\n",
       "    <tr>\n",
       "      <td>2167</td>\n",
       "      <td>MS2168</td>\n",
       "      <td>Not Selected</td>\n",
       "      <td>[MySQL, AWS/GCP, AJAX, JSON, Git/GitHub, REST ...</td>\n",
       "    </tr>\n",
       "  </tbody>\n",
       "</table>\n",
       "<p>2168 rows × 3 columns</p>\n",
       "</div>"
      ],
      "text/plain": [
       "     Application_id Shortlist_selection  \\\n",
       "0            MS0001        Not Selected   \n",
       "1            MS0002        Not Selected   \n",
       "2            MS0003        Not Selected   \n",
       "3            MS0004        Not Selected   \n",
       "4            MS0005        Not Selected   \n",
       "...             ...                 ...   \n",
       "2163         MS2164        Not Selected   \n",
       "2164         MS2165        Not Selected   \n",
       "2165         MS2166        Not Selected   \n",
       "2166         MS2167        Not Selected   \n",
       "2167         MS2168        Not Selected   \n",
       "\n",
       "                                             skill_gaps  \n",
       "0     [MySQL, AWS/GCP, PHP, AJAX, CSS, JavaScript, J...  \n",
       "1     [MySQL, AWS/GCP, PHP, AJAX, CSS, JavaScript, J...  \n",
       "2     [MySQL, AWS/GCP, PHP, AJAX, CSS, JavaScript, J...  \n",
       "3     [MySQL, AWS/GCP, PHP, AJAX, CSS, JavaScript, J...  \n",
       "4     [AWS/GCP, AJAX, CSS, JavaScript, JSON, Git/Git...  \n",
       "...                                                 ...  \n",
       "2163  [MySQL, AWS/GCP, PHP, AJAX, CSS, JavaScript, J...  \n",
       "2164  [MySQL, AWS/GCP, AJAX, JSON, Git/GitHub, REST ...  \n",
       "2165  [MySQL, AWS/GCP, PHP, AJAX, JSON, Git/GitHub, ...  \n",
       "2166  [MySQL, AWS/GCP, PHP, AJAX, CSS, JavaScript, J...  \n",
       "2167  [MySQL, AWS/GCP, AJAX, JSON, Git/GitHub, REST ...  \n",
       "\n",
       "[2168 rows x 3 columns]"
      ]
     },
     "execution_count": 8,
     "metadata": {},
     "output_type": "execute_result"
    }
   ],
   "source": [
    "final_selection_data"
   ]
  },
  {
   "cell_type": "code",
   "execution_count": null,
   "metadata": {},
   "outputs": [],
   "source": []
  },
  {
   "cell_type": "code",
   "execution_count": null,
   "metadata": {},
   "outputs": [],
   "source": []
  }
 ],
 "metadata": {
  "kernelspec": {
   "display_name": "Python 3",
   "language": "python",
   "name": "python3"
  },
  "language_info": {
   "codemirror_mode": {
    "name": "ipython",
    "version": 3
   },
   "file_extension": ".py",
   "mimetype": "text/x-python",
   "name": "python",
   "nbconvert_exporter": "python",
   "pygments_lexer": "ipython3",
   "version": "3.7.4"
  }
 },
 "nbformat": 4,
 "nbformat_minor": 2
}
